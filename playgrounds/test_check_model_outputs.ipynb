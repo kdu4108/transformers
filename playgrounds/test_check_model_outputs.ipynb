{
 "cells": [
  {
   "cell_type": "code",
   "execution_count": 1,
   "metadata": {},
   "outputs": [
    {
     "name": "stdout",
     "output_type": "stream",
     "text": [
      "env: XLA_PYTHON_CLIENT_PREALLOCATE=false\n"
     ]
    },
    {
     "name": "stderr",
     "output_type": "stream",
     "text": [
      "/home/kevin/miniconda3/envs/jax-hf/lib/python3.9/site-packages/tqdm/auto.py:22: TqdmWarning: IProgress not found. Please update jupyter and ipywidgets. See https://ipywidgets.readthedocs.io/en/stable/user_install.html\n",
      "  from .autonotebook import tqdm as notebook_tqdm\n"
     ]
    }
   ],
   "source": [
    "%env XLA_PYTHON_CLIENT_PREALLOCATE=false\n",
    "from jax.config import config\n",
    "config.update(\"jax_enable_x64\", True)\n",
    "from jax import numpy as jnp\n",
    "import torch\n",
    "from transformers import (\n",
    "    BaseModelOutputWithPastAndCrossAttentions,\n",
    "    BfBaseModelOutputWithPastAndCrossAttentions,\n",
    ")\n",
    "from utils import check_model_outputs_allclose\n",
    "torch.manual_seed(0)\n",
    "from brunoflow import Node"
   ]
  },
  {
   "cell_type": "code",
   "execution_count": 2,
   "metadata": {},
   "outputs": [],
   "source": [
    "a, b, c = torch.randn(size=(2, 768)), torch.randn(size=(2, 768)), torch.randn(size=(2, 768))\n",
    "last_hidden_state_torch = torch.randn(size=(2, 19, 768))\n",
    "past_key_values_torch = ((a, b), (c,))\n",
    "all_hidden_states_torch = None\n",
    "attentions_torch = (c, b, a)\n",
    "cross_attentions_torch = None\n",
    "\n",
    "last_hidden_state_bf = Node(jnp.array(last_hidden_state_torch.numpy()))\n",
    "past_key_values_bf = ((Node(jnp.array(a.numpy())), Node(jnp.array(b.numpy()))), (Node(jnp.array(c.numpy())),))\n",
    "all_hidden_states_bf = all_hidden_states_torch\n",
    "attentions_bf = (Node(jnp.array(c.numpy())), Node(jnp.array(b.numpy())), Node(jnp.array(a.numpy())))\n",
    "cross_attentions_bf = cross_attentions_torch"
   ]
  },
  {
   "cell_type": "code",
   "execution_count": 3,
   "metadata": {},
   "outputs": [
    {
     "name": "stdout",
     "output_type": "stream",
     "text": [
      "BfBaseModelOutputWithPastAndCrossAttentions BaseModelOutputWithPastAndCrossAttentions\n",
      "Comparing equality of torch object <class 'NoneType'> with bf object <class 'NoneType'>.\n",
      "Comparing equality of torch object <class 'NoneType'> with bf object <class 'NoneType'>.\n"
     ]
    }
   ],
   "source": [
    "output_torch = BaseModelOutputWithPastAndCrossAttentions(\n",
    "    last_hidden_state=last_hidden_state_torch,\n",
    "    past_key_values=past_key_values_torch,\n",
    "    hidden_states=all_hidden_states_torch,\n",
    "    attentions=attentions_torch,\n",
    "    cross_attentions=cross_attentions_torch,\n",
    ")\n",
    "\n",
    "output_bf = BfBaseModelOutputWithPastAndCrossAttentions(\n",
    "    last_hidden_state=last_hidden_state_bf,\n",
    "    past_key_values=past_key_values_bf,\n",
    "    hidden_states=all_hidden_states_bf,\n",
    "    attentions=attentions_bf,\n",
    "    cross_attentions=cross_attentions_bf,\n",
    ")\n",
    "\n",
    "check_model_outputs_allclose(output_bf, output_torch)"
   ]
  },
  {
   "cell_type": "code",
   "execution_count": null,
   "metadata": {},
   "outputs": [],
   "source": []
  }
 ],
 "metadata": {
  "kernelspec": {
   "display_name": "Python 3 (ipykernel)",
   "language": "python",
   "name": "python3"
  },
  "language_info": {
   "codemirror_mode": {
    "name": "ipython",
    "version": 3
   },
   "file_extension": ".py",
   "mimetype": "text/x-python",
   "name": "python",
   "nbconvert_exporter": "python",
   "pygments_lexer": "ipython3",
   "version": "3.9.15"
  },
  "vscode": {
   "interpreter": {
    "hash": "b4cc9cc217af6b7e12b7da5c82d5884fde07a0e0f6b7f76767c2fbf53f076f9a"
   }
  }
 },
 "nbformat": 4,
 "nbformat_minor": 2
}
