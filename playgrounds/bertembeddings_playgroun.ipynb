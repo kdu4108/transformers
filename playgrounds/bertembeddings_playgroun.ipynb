{
 "cells": [
  {
   "cell_type": "code",
   "execution_count": 1,
   "metadata": {},
   "outputs": [
    {
     "name": "stderr",
     "output_type": "stream",
     "text": [
      "/home/kevin/miniconda3/envs/jax-hf/lib/python3.9/site-packages/tqdm/auto.py:22: TqdmWarning: IProgress not found. Please update jupyter and ipywidgets. See https://ipywidgets.readthedocs.io/en/stable/user_install.html\n",
      "  from .autonotebook import tqdm as notebook_tqdm\n"
     ]
    }
   ],
   "source": [
    "from jax import numpy as jnp\n",
    "import transformers\n",
    "from transformers import (\n",
    "    AutoTokenizer, \n",
    "    AutoModelForMaskedLM, \n",
    "    BertForMaskedLM, \n",
    "    BertTokenizer, \n",
    "    BertTokenizerFast, \n",
    "    BertEmbeddings,\n",
    "    BfBertEmbeddings,\n",
    "    BertConfig,\n",
    ")"
   ]
  },
  {
   "cell_type": "code",
   "execution_count": 2,
   "metadata": {},
   "outputs": [
    {
     "name": "stdout",
     "output_type": "stream",
     "text": [
      "tensor([[  101,  7592,  1045,  2215,  2000,  4521,  2070,   103,  6240,  2651,\n",
      "          1012,  2009,  1005,  1055, 15060,   103,  2035,   999,   102],\n",
      "        [  101, 10930, 10930,  2054,  1005,  1055,  2039,   102,     0,     0,\n",
      "             0,     0,     0,     0,     0,     0,     0,     0,     0]])\n"
     ]
    }
   ],
   "source": [
    "# Establish data\n",
    "tokenizer = BertTokenizerFast.from_pretrained(\"bert-base-uncased\")\n",
    "text = [\"hello I want to eat some [MASK] meat today. It's thanksgiving [MASK] all!\", \"yo yo what's up\"]\n",
    "\n",
    "# tokenize text and pass into model\n",
    "tokens = tokenizer(text, return_tensors=\"pt\", padding=True)\n",
    "input_ids = tokens[\"input_ids\"]\n",
    "print(input_ids)"
   ]
  },
  {
   "cell_type": "code",
   "execution_count": 3,
   "metadata": {},
   "outputs": [
    {
     "name": "stderr",
     "output_type": "stream",
     "text": [
      "2022-12-21 14:58:45.381768: E external/org_tensorflow/tensorflow/compiler/xla/stream_executor/cuda/cuda_driver.cc:267] failed call to cuInit: CUDA_ERROR_UNKNOWN: unknown error\n",
      "WARNING:jax._src.lib.xla_bridge:No GPU/TPU found, falling back to CPU. (Set TF_CPP_MIN_LOG_LEVEL=0 and rerun for more info.)\n",
      "/home/kevin/code/rycolab/transformers/src/transformers/models/bert/modeling_bf_bert.py:174: UserWarning: Explicitly requested dtype <class 'jax.numpy.int64'> requested in zeros is not available, and will be truncated to dtype int32. To enable more dtypes, set the jax_enable_x64 configuration option or the JAX_ENABLE_X64 shell environment variable. See https://github.com/google/jax#current-gotchas for more.\n",
      "  self.token_type_ids = jnp.zeros(self.position_ids.shape, dtype=jnp.int64) # todo is this 64 bit necessary?\n"
     ]
    }
   ],
   "source": [
    "# Create BfBertEmbeddings and BertEmbeddings\n",
    "config = BertConfig.from_pretrained(pretrained_model_name_or_path=\"/home/kevin/code/rycolab/brunoflow/models/bert/config.json\")\n",
    "bf_embs = BfBertEmbeddings(config)\n",
    "torch_embs = BertEmbeddings(config)"
   ]
  },
  {
   "cell_type": "code",
   "execution_count": 4,
   "metadata": {},
   "outputs": [
    {
     "name": "stdout",
     "output_type": "stream",
     "text": [
      "[[[-0.34472668  0.5307575  -0.6256574  ... -0.74307156 -0.7948409\n",
      "    0.410834  ]\n",
      "  [-0.12443667 -0.8550836  -0.33784032 ... -0.03916439 -1.4545143\n",
      "    0.26670295]\n",
      "  [-2.1477165  -0.90835226 -1.105538   ...  0.75945294 -1.8616817\n",
      "   -0.16157249]\n",
      "  ...\n",
      "  [-1.8152208   0.4767846  -0.3528018  ... -0.03726343 -2.2972047\n",
      "    0.14477256]\n",
      "  [-0.9735971  -2.01189    -0.08289954 ... -0.51852256 -1.0732709\n",
      "    0.9564046 ]\n",
      "  [-1.0029035  -1.2219137   0.8737193  ... -0.09658846 -1.1882741\n",
      "    0.27896053]]\n",
      "\n",
      " [[-0.34472668  0.5307575  -0.6256574  ... -0.74307156 -0.7948409\n",
      "    0.410834  ]\n",
      "  [-0.21959372 -1.3216001  -0.11712483 ... -0.14018822 -1.1034871\n",
      "    0.9674713 ]\n",
      "  [-2.029127   -1.2888647  -1.9155287  ...  0.5731998  -0.8514466\n",
      "    0.7274356 ]\n",
      "  ...\n",
      "  [-1.2329972   0.89194095 -0.20066781 ... -0.42031294 -0.9897826\n",
      "   -0.20450695]\n",
      "  [-2.481228   -2.043665   -0.8651028  ... -0.5931333  -0.5373075\n",
      "   -0.54956347]\n",
      "  [-1.3868319  -0.63329226 -0.24705154 ... -0.3211176  -0.5438302\n",
      "   -0.5995097 ]]]\n",
      "tensor([[[-0.0648,  0.8720, -0.7248,  ..., -0.0000, -1.2051, -0.9307],\n",
      "         [ 0.9619, -0.5120, -0.1669,  ..., -0.5319, -0.2008,  0.0180],\n",
      "         [ 0.3279, -0.1205, -1.1487,  ..., -0.0000, -0.3460, -0.9825],\n",
      "         ...,\n",
      "         [ 0.8131,  3.3633, -0.0067,  ..., -1.4497, -0.4584, -1.5647],\n",
      "         [-0.4156,  1.3064,  0.6131,  ...,  1.3618,  0.9547, -0.1150],\n",
      "         [-1.5370,  0.7244, -0.8678,  ...,  0.5399, -1.0964, -1.6257]],\n",
      "\n",
      "        [[-0.0648,  0.8720, -0.7248,  ..., -1.6733, -1.2051, -0.9307],\n",
      "         [ 0.5754, -0.1471, -0.5865,  ..., -0.7949, -1.2247, -0.1973],\n",
      "         [ 1.0442,  0.7229, -1.0397,  ..., -0.9459, -1.4170, -1.5993],\n",
      "         ...,\n",
      "         [ 1.2413,  4.1755,  0.0000,  ..., -1.2414, -0.3338, -1.6844],\n",
      "         [-0.8486,  0.0000,  0.4495,  ...,  1.8329,  1.0430, -1.4579],\n",
      "         [ 0.0471, -0.0782, -1.0188,  ..., -0.3544, -1.0785, -1.6197]]],\n",
      "       grad_fn=<MulBackward0>)\n"
     ]
    }
   ],
   "source": [
    "# Compare output of BfBertEmbeddings and BertEmbeddings on the text\n",
    "jax_input_ids = jnp.array(input_ids.numpy(), dtype=int)\n",
    "print(bf_embs(input_ids=jax_input_ids).val)\n",
    "print(torch_embs(input_ids=input_ids))"
   ]
  }
 ],
 "metadata": {
  "kernelspec": {
   "display_name": "Python 3.9.15 ('jax-hf')",
   "language": "python",
   "name": "python3"
  },
  "language_info": {
   "codemirror_mode": {
    "name": "ipython",
    "version": 3
   },
   "file_extension": ".py",
   "mimetype": "text/x-python",
   "name": "python",
   "nbconvert_exporter": "python",
   "pygments_lexer": "ipython3",
   "version": "3.9.15"
  },
  "orig_nbformat": 4,
  "vscode": {
   "interpreter": {
    "hash": "b4cc9cc217af6b7e12b7da5c82d5884fde07a0e0f6b7f76767c2fbf53f076f9a"
   }
  }
 },
 "nbformat": 4,
 "nbformat_minor": 2
}
