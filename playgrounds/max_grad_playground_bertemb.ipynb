{
 "cells": [
  {
   "cell_type": "code",
   "execution_count": 19,
   "metadata": {},
   "outputs": [
    {
     "name": "stdout",
     "output_type": "stream",
     "text": [
      "env: XLA_PYTHON_CLIENT_PREALLOCATE=false\n"
     ]
    },
    {
     "data": {
      "text/plain": [
       "<torch._C.Generator at 0x7f7fa9b214b0>"
      ]
     },
     "execution_count": 19,
     "metadata": {},
     "output_type": "execute_result"
    }
   ],
   "source": [
    "%env XLA_PYTHON_CLIENT_PREALLOCATE=false\n",
    "import brunoflow as bf\n",
    "from brunoflow.ad.utils import check_node_equals_tensor, check_node_allclose_tensor\n",
    "from jax import numpy as jnp\n",
    "import transformers\n",
    "import torch\n",
    "from transformers import (\n",
    "    AutoTokenizer, \n",
    "    AutoModelForMaskedLM, \n",
    "    BertForMaskedLM, \n",
    "    BertTokenizer, \n",
    "    BertTokenizerFast, \n",
    "    BertEmbeddings,\n",
    "    BfBertEmbeddings,\n",
    "    BfBertEncoder,\n",
    "    BertConfig,\n",
    "    BfBertSelfAttention,\n",
    ")\n",
    "from collections import Counter\n",
    "\n",
    "torch.manual_seed(0)"
   ]
  },
  {
   "cell_type": "code",
   "execution_count": 2,
   "metadata": {},
   "outputs": [
    {
     "name": "stderr",
     "output_type": "stream",
     "text": [
      "2023-01-10 13:11:30.187775: E external/org_tensorflow/tensorflow/compiler/xla/stream_executor/cuda/cuda_driver.cc:267] failed call to cuInit: CUDA_ERROR_UNKNOWN: unknown error\n",
      "WARNING:jax._src.lib.xla_bridge:No GPU/TPU found, falling back to CPU. (Set TF_CPP_MIN_LOG_LEVEL=0 and rerun for more info.)\n"
     ]
    },
    {
     "name": "stdout",
     "output_type": "stream",
     "text": [
      "tensor([[  101,  7592,  1045,  2215,  2000,  4521,  2070,   103,  6240,  2651,\n",
      "          1012,  2009,  1005,  1055, 15060,   103,  2035,   999,   102],\n",
      "        [  101, 10930, 10930,  2054,  1005,  1055,  2039,   102,     0,     0,\n",
      "             0,     0,     0,     0,     0,     0,     0,     0,     0]])\n"
     ]
    }
   ],
   "source": [
    "# Establish data\n",
    "model_id = \"google/bert_uncased_L-2_H-128_A-2\"\n",
    "config = BertConfig.from_pretrained(pretrained_model_name_or_path=\"../../brunoflow/models/bert/config-tiny.json\")\n",
    "tokenizer = BertTokenizerFast.from_pretrained(model_id)\n",
    "text = [\"hello I want to eat some [MASK] meat today. It's thanksgiving [MASK] all!\", \"yo yo what's up\"]\n",
    "\n",
    "# tokenize text and pass into model\n",
    "tokens = tokenizer(text, return_tensors=\"pt\", padding=True)\n",
    "input_ids = tokens[\"input_ids\"]\n",
    "jax_input_ids = bf.Node(jnp.array(input_ids.numpy(), dtype=int), name=\"inputs\")\n",
    "print(input_ids)"
   ]
  },
  {
   "cell_type": "code",
   "execution_count": 3,
   "metadata": {},
   "outputs": [
    {
     "name": "stderr",
     "output_type": "stream",
     "text": [
      "/home/kevin/code/rycolab/transformers/src/transformers/models/bert/modeling_bf_bert.py:178: UserWarning: Explicitly requested dtype <class 'jax.numpy.int64'> requested in zeros is not available, and will be truncated to dtype int32. To enable more dtypes, set the jax_enable_x64 configuration option or the JAX_ENABLE_X64 shell environment variable. See https://github.com/google/jax#current-gotchas for more.\n",
      "  bf.Parameter(jnp.zeros(self.position_ids.shape, dtype=jnp.int64), name=\"position_ids\"),\n"
     ]
    },
    {
     "name": "stdout",
     "output_type": "stream",
     "text": [
      "WARNING: Node of name + has inputs from different modules, {Embedding(word_embeddings)(30522, 128, padding_idx=0), Embedding(token_type_embeddings)(2, 128)}. Picking its module to be the FIRST one, Embedding(word_embeddings)(30522, 128, padding_idx=0).\n",
      "WARNING: Node of name + has inputs from different modules, {Embedding(position_embeddings)(512, 128), Embedding(word_embeddings)(30522, 128, padding_idx=0)}. Picking its module to be the FIRST one, Embedding(word_embeddings)(30522, 128, padding_idx=0).\n",
      "WARNING: Node of name * has inputs from different modules, {LayerNorm(in BfBertEmbeddings)((128,), eps=1e-12, elementwise_affine=True), Embedding(word_embeddings)(30522, 128, padding_idx=0)}. Picking its module to be the FIRST one, LayerNorm(in BfBertEmbeddings)((128,), eps=1e-12, elementwise_affine=True).\n"
     ]
    },
    {
     "name": "stderr",
     "output_type": "stream",
     "text": [
      "/home/kevin/miniconda3/envs/jax-hf/lib/python3.9/site-packages/jax/_src/ops/scatter.py:87: FutureWarning: scatter inputs have incompatible types: cannot safely cast value from dtype=float32 to dtype=int32. In future JAX releases this will result in an error.\n",
      "  warnings.warn(\"scatter inputs have incompatible types: cannot safely cast \"\n",
      "/home/kevin/miniconda3/envs/jax-hf/lib/python3.9/site-packages/jax/_src/ops/scatter.py:87: FutureWarning: scatter inputs have incompatible types: cannot safely cast value from dtype=float32 to dtype=int32. In future JAX releases this will result in an error.\n",
      "  warnings.warn(\"scatter inputs have incompatible types: cannot safely cast \"\n"
     ]
    }
   ],
   "source": [
    "# Create BfBertEmbeddings and BertEmbeddings\n",
    "bf_embs = BfBertEmbeddings(config)\n",
    "# Visualize output of forward pass of BfBertEmbeddings\n",
    "bf_embs.train(False)\n",
    "out_bf = bf_embs(input_ids=jax_input_ids)\n",
    "# out_bf.visualize(collapse_to_modules=True)\n",
    "# print(bf_embs)\n",
    "bf_embs.train(True)\n",
    "out_bf.backprop(values_to_compute=(\"max_grad\",))"
   ]
  },
  {
   "cell_type": "code",
   "execution_count": 4,
   "metadata": {},
   "outputs": [],
   "source": [
    "out_bf.visualize()"
   ]
  },
  {
   "cell_type": "code",
   "execution_count": null,
   "metadata": {},
   "outputs": [],
   "source": []
  },
  {
   "cell_type": "code",
   "execution_count": 5,
   "metadata": {},
   "outputs": [
    {
     "data": {
      "text/plain": [
       "tensor([  101,  7592,  1045,  2215,  2000,  4521,  2070,   103,  6240,  2651,\n",
       "         1012,  2009,  1005,  1055, 15060,   103,  2035,   999,   102])"
      ]
     },
     "execution_count": 5,
     "metadata": {},
     "output_type": "execute_result"
    }
   ],
   "source": [
    "input_ids[0]"
   ]
  },
  {
   "cell_type": "code",
   "execution_count": 6,
   "metadata": {},
   "outputs": [
    {
     "data": {
      "text/plain": [
       "(30522, 128)"
      ]
     },
     "execution_count": 6,
     "metadata": {},
     "output_type": "execute_result"
    }
   ],
   "source": [
    "import numpy as np\n",
    "bf_embs.word_embeddings.weight.get_max_grad_parent().shape"
   ]
  },
  {
   "cell_type": "code",
   "execution_count": 7,
   "metadata": {},
   "outputs": [
    {
     "data": {
      "text/plain": [
       "(128,)"
      ]
     },
     "execution_count": 7,
     "metadata": {},
     "output_type": "execute_result"
    }
   ],
   "source": [
    "bf_embs.word_embeddings.weight.get_max_grad_parent()[101].shape"
   ]
  },
  {
   "cell_type": "code",
   "execution_count": 16,
   "metadata": {},
   "outputs": [
    {
     "data": {
      "text/plain": [
       "[node(name: sum, val: [[[ -8.037544 ]\n",
       "   [ -9.25424  ]\n",
       "   [-30.422623 ]\n",
       "   [-23.394344 ]\n",
       "   [ 18.407639 ]\n",
       "   [-15.804301 ]\n",
       "   [ -5.4714947]\n",
       "   [-14.878903 ]\n",
       "   [ -2.0510278]\n",
       "   [-15.913745 ]\n",
       "   [ -1.8737106]\n",
       "   [  9.090008 ]\n",
       "   [-36.69632  ]\n",
       "   [-21.18118  ]\n",
       "   [-43.435745 ]\n",
       "   [ -1.92349  ]\n",
       "   [-15.039597 ]\n",
       "   [  1.0616264]\n",
       "   [ -9.414511 ]]\n",
       " \n",
       "  [[ -8.037544 ]\n",
       "   [-21.553772 ]\n",
       "   [-31.694557 ]\n",
       "   [-41.051914 ]\n",
       "   [  1.2789683]\n",
       "   [-17.676403 ]\n",
       "   [-41.590836 ]\n",
       "   [ -3.2156487]\n",
       "   [ -5.3564873]\n",
       "   [-22.55719  ]\n",
       "   [ -0.2202673]\n",
       "   [  8.048849 ]\n",
       "   [-28.457026 ]\n",
       "   [-16.717178 ]\n",
       "   [-20.629799 ]\n",
       "   [  9.942659 ]\n",
       "   [-10.314689 ]\n",
       "   [ -9.4309025]\n",
       "   [ -9.211617 ]]], grad: [[[0.]\n",
       "   [0.]\n",
       "   [0.]\n",
       "   [0.]\n",
       "   [0.]\n",
       "   [0.]\n",
       "   [0.]\n",
       "   [0.]\n",
       "   [0.]\n",
       "   [0.]\n",
       "   [0.]\n",
       "   [0.]\n",
       "   [0.]\n",
       "   [0.]\n",
       "   [0.]\n",
       "   [0.]\n",
       "   [0.]\n",
       "   [0.]\n",
       "   [0.]]\n",
       " \n",
       "  [[0.]\n",
       "   [0.]\n",
       "   [0.]\n",
       "   [0.]\n",
       "   [0.]\n",
       "   [0.]\n",
       "   [0.]\n",
       "   [0.]\n",
       "   [0.]\n",
       "   [0.]\n",
       "   [0.]\n",
       "   [0.]\n",
       "   [0.]\n",
       "   [0.]\n",
       "   [0.]\n",
       "   [0.]\n",
       "   [0.]\n",
       "   [0.]\n",
       "   [0.]]]),\n",
       " node(name: -, val: [[[-2.055826    1.9602232  -2.4997613  ... -0.66506654  1.7868567\n",
       "    -2.0468354 ]\n",
       "   [ 0.91205066  1.3642676  -0.27127576 ... -3.654943    2.5712256\n",
       "     2.820441  ]\n",
       "   [-2.9715686  -1.9735163  -0.75190353 ... -0.6736827  -2.6053133\n",
       "     2.7153106 ]\n",
       "   ...\n",
       "   [-1.8908731  -0.90543425 -2.153562   ...  0.0360316  -0.4378655\n",
       "    -1.4195855 ]\n",
       "   [-2.36614     2.1955698  -4.0641236  ... -1.8886303  -0.25730273\n",
       "    -0.5975659 ]\n",
       "   [ 0.9218515   1.6637299  -1.3754494  ... -1.7345631   1.5255744\n",
       "     0.5460858 ]]\n",
       " \n",
       "  [[-2.055826    1.9602232  -2.4997613  ... -0.66506654  1.7868567\n",
       "    -2.0468354 ]\n",
       "   [-1.8819065   4.485992   -0.54169416 ... -2.1072445   1.3272808\n",
       "     1.9330618 ]\n",
       "   [-2.0620303   1.2712848  -1.3479426  ...  0.69896513 -0.69501644\n",
       "     1.7687442 ]\n",
       "   ...\n",
       "   [-0.6520039   0.3093468  -1.7184142  ... -0.13329238  0.15922505\n",
       "    -0.492513  ]\n",
       "   [-1.6085392   1.7399068  -2.8547454  ... -1.9075974   0.46827722\n",
       "    -0.7887736 ]\n",
       "   [-0.05998474  0.40356463 -1.7352154  ... -1.9466411   1.0503819\n",
       "     0.24205625]]], grad: [[[0. 0. 0. ... 0. 0. 0.]\n",
       "   [0. 0. 0. ... 0. 0. 0.]\n",
       "   [0. 0. 0. ... 0. 0. 0.]\n",
       "   ...\n",
       "   [0. 0. 0. ... 0. 0. 0.]\n",
       "   [0. 0. 0. ... 0. 0. 0.]\n",
       "   [0. 0. 0. ... 0. 0. 0.]]\n",
       " \n",
       "  [[0. 0. 0. ... 0. 0. 0.]\n",
       "   [0. 0. 0. ... 0. 0. 0.]\n",
       "   [0. 0. 0. ... 0. 0. 0.]\n",
       "   ...\n",
       "   [0. 0. 0. ... 0. 0. 0.]\n",
       "   [0. 0. 0. ... 0. 0. 0.]\n",
       "   [0. 0. 0. ... 0. 0. 0.]]]),\n",
       " node(name: pow, val: [[[4.48854733e+00 3.60024047e+00 6.56668615e+00 ... 5.29779971e-01\n",
       "    2.97239470e+00 4.45053339e+00]\n",
       "   [7.05183268e-01 1.66918349e+00 1.18043453e-01 ... 1.38923311e+01\n",
       "    6.24463558e+00 7.55228567e+00]\n",
       "   [1.02992563e+01 4.88937473e+00 9.79269147e-01 ... 8.30576003e-01\n",
       "    8.08259201e+00 6.13866901e+00]\n",
       "   ...\n",
       "   [4.03354979e+00 1.04638803e+00 5.15770912e+00 ... 6.63658604e-03\n",
       "    3.08427334e-01 2.36262202e+00]\n",
       "   [5.55943775e+00 4.85701466e+00 1.64497528e+01 ... 3.53566456e+00\n",
       "    6.20053709e-02 3.47241372e-01]\n",
       "   [7.19613969e-01 2.52866960e+00 2.09960175e+00 ... 3.26927590e+00\n",
       "    2.10837269e+00 2.23289251e-01]]\n",
       " \n",
       "  [[4.48854733e+00 3.60024047e+00 6.56668615e+00 ... 5.29779971e-01\n",
       "    2.97239470e+00 4.45053339e+00]\n",
       "   [4.20371103e+00 1.86416969e+01 5.04217863e-01 ... 5.17850685e+00\n",
       "    1.34303045e+00 3.11407089e+00]\n",
       "   [5.33445549e+00 1.04790258e+00 2.54580021e+00 ... 2.03718096e-01\n",
       "    8.88551652e-01 2.31383824e+00]\n",
       "   ...\n",
       "   [5.36684275e-01 5.23326397e-02 3.23639250e+00 ... 4.57428955e-02\n",
       "    6.18449086e-03 3.28439623e-01]\n",
       "   [2.82985806e+00 2.77631521e+00 8.57566929e+00 ... 3.92545605e+00\n",
       "    1.55707821e-01 7.43824303e-01]\n",
       "   [1.74109340e-02 1.09957814e-01 3.26590395e+00 ... 4.07477379e+00\n",
       "    9.57298040e-01 2.89307777e-02]]], grad: [[[0. 0. 0. ... 0. 0. 0.]\n",
       "   [0. 0. 0. ... 0. 0. 0.]\n",
       "   [0. 0. 0. ... 0. 0. 0.]\n",
       "   ...\n",
       "   [0. 0. 0. ... 0. 0. 0.]\n",
       "   [0. 0. 0. ... 0. 0. 0.]\n",
       "   [0. 0. 0. ... 0. 0. 0.]]\n",
       " \n",
       "  [[0. 0. 0. ... 0. 0. 0.]\n",
       "   [0. 0. 0. ... 0. 0. 0.]\n",
       "   [0. 0. 0. ... 0. 0. 0.]\n",
       "   ...\n",
       "   [0. 0. 0. ... 0. 0. 0.]\n",
       "   [0. 0. 0. ... 0. 0. 0.]\n",
       "   [0. 0. 0. ... 0. 0. 0.]]])]"
      ]
     },
     "execution_count": 16,
     "metadata": {},
     "output_type": "execute_result"
    }
   ],
   "source": [
    "bf_embs.word_embeddings.weight.get_parents()[0].get_parents()[0].get_parents()[0].get_parents()"
   ]
  },
  {
   "cell_type": "code",
   "execution_count": 22,
   "metadata": {},
   "outputs": [
    {
     "data": {
      "text/plain": [
       "Counter({node(name: -, val: [[[-2.055826    1.9602232  -2.4997613  ... -0.66506654  1.7868567\n",
       "            -2.0468354 ]\n",
       "           [ 0.91205066  1.3642676  -0.27127576 ... -3.654943    2.5712256\n",
       "             2.820441  ]\n",
       "           [-2.9715686  -1.9735163  -0.75190353 ... -0.6736827  -2.6053133\n",
       "             2.7153106 ]\n",
       "           ...\n",
       "           [-1.8908731  -0.90543425 -2.153562   ...  0.0360316  -0.4378655\n",
       "            -1.4195855 ]\n",
       "           [-2.36614     2.1955698  -4.0641236  ... -1.8886303  -0.25730273\n",
       "            -0.5975659 ]\n",
       "           [ 0.9218515   1.6637299  -1.3754494  ... -1.7345631   1.5255744\n",
       "             0.5460858 ]]\n",
       "         \n",
       "          [[-2.055826    1.9602232  -2.4997613  ... -0.66506654  1.7868567\n",
       "            -2.0468354 ]\n",
       "           [-1.8819065   4.485992   -0.54169416 ... -2.1072445   1.3272808\n",
       "             1.9330618 ]\n",
       "           [-2.0620303   1.2712848  -1.3479426  ...  0.69896513 -0.69501644\n",
       "             1.7687442 ]\n",
       "           ...\n",
       "           [-0.6520039   0.3093468  -1.7184142  ... -0.13329238  0.15922505\n",
       "            -0.492513  ]\n",
       "           [-1.6085392   1.7399068  -2.8547454  ... -1.9075974   0.46827722\n",
       "            -0.7887736 ]\n",
       "           [-0.05998474  0.40356463 -1.7352154  ... -1.9466411   1.0503819\n",
       "             0.24205625]]], grad: [[[0. 0. 0. ... 0. 0. 0.]\n",
       "           [0. 0. 0. ... 0. 0. 0.]\n",
       "           [0. 0. 0. ... 0. 0. 0.]\n",
       "           ...\n",
       "           [0. 0. 0. ... 0. 0. 0.]\n",
       "           [0. 0. 0. ... 0. 0. 0.]\n",
       "           [0. 0. 0. ... 0. 0. 0.]]\n",
       "         \n",
       "          [[0. 0. 0. ... 0. 0. 0.]\n",
       "           [0. 0. 0. ... 0. 0. 0.]\n",
       "           [0. 0. 0. ... 0. 0. 0.]\n",
       "           ...\n",
       "           [0. 0. 0. ... 0. 0. 0.]\n",
       "           [0. 0. 0. ... 0. 0. 0.]\n",
       "           [0. 0. 0. ... 0. 0. 0.]]]): 128})"
      ]
     },
     "execution_count": 22,
     "metadata": {},
     "output_type": "execute_result"
    }
   ],
   "source": [
    "Counter(bf_embs.word_embeddings.weight.get_parents()[0].get_parents()[0].get_parents()[0].get_max_grad_parent()[0, 0])"
   ]
  },
  {
   "cell_type": "code",
   "execution_count": null,
   "metadata": {},
   "outputs": [
    {
     "data": {
      "text/plain": [
       "Counter({node(name: *, val: [[[-1.3068492   1.2460763  -1.5890504  ... -0.42277008  1.1358706\n",
       "            -1.3011341 ]\n",
       "           [ 0.5956796   0.891032   -0.17717592 ... -2.3871205   1.6793218\n",
       "             1.8420895 ]\n",
       "           [-1.698645   -1.1281259  -0.42981243 ... -0.38509887 -1.4892815\n",
       "             1.5521595 ]\n",
       "           ...\n",
       "           [-1.1109186  -0.5319573  -1.2652527  ...  0.02116915 -0.25725308\n",
       "            -0.8340295 ]\n",
       "           [-1.3572129   1.2593743  -2.331173   ... -1.0833144  -0.14758831\n",
       "            -0.34276256]\n",
       "           [ 0.60616684  1.0939916  -0.9044318  ... -1.1405684   1.003147\n",
       "             0.3590807 ]]\n",
       "         \n",
       "          [[-1.3068492   1.2460763  -1.5890504  ... -0.42277008  1.1358706\n",
       "            -1.3011341 ]\n",
       "           [-1.0704961   2.5517936  -0.30813512 ... -1.1986765   0.755005\n",
       "             1.0995951 ]\n",
       "           [-1.2653587   0.78012013 -0.82716095 ...  0.42891786 -0.42649475\n",
       "             1.0853846 ]\n",
       "           ...\n",
       "           [-0.47345397  0.22463281 -1.24783    ... -0.09679053  0.1156216\n",
       "            -0.3576393 ]\n",
       "           [-1.1466187   1.2402618  -2.0349548  ... -1.3597971   0.33380315\n",
       "            -0.5622633 ]\n",
       "           [-0.04572114  0.30760214 -1.3226035  ... -1.4837548   0.80061454\n",
       "             0.18449838]]], grad: [[[0. 0. 0. ... 0. 0. 0.]\n",
       "           [0. 0. 0. ... 0. 0. 0.]\n",
       "           [0. 0. 0. ... 0. 0. 0.]\n",
       "           ...\n",
       "           [0. 0. 0. ... 0. 0. 0.]\n",
       "           [0. 0. 0. ... 0. 0. 0.]\n",
       "           [0. 0. 0. ... 0. 0. 0.]]\n",
       "         \n",
       "          [[0. 0. 0. ... 0. 0. 0.]\n",
       "           [0. 0. 0. ... 0. 0. 0.]\n",
       "           [0. 0. 0. ... 0. 0. 0.]\n",
       "           ...\n",
       "           [0. 0. 0. ... 0. 0. 0.]\n",
       "           [0. 0. 0. ... 0. 0. 0.]\n",
       "           [0. 0. 0. ... 0. 0. 0.]]]): 128})"
      ]
     },
     "execution_count": 20,
     "metadata": {},
     "output_type": "execute_result"
    }
   ],
   "source": [
    "Counter(bf_embs.word_embeddings.weight.get_max_grad_parent()[101][0].get_max_grad_parent()[0][0][0].get_max_grad_parent()[0][0][0].get_max_grad_parent()[0][0][0].get_max_grad_parent()[0][0][0].get_max_grad_parent()[0][0])"
   ]
  },
  {
   "cell_type": "code",
   "execution_count": null,
   "metadata": {},
   "outputs": [
    {
     "data": {
      "text/plain": [
       "'get_embedding'"
      ]
     },
     "execution_count": 50,
     "metadata": {},
     "output_type": "execute_result"
    }
   ],
   "source": [
    "bf_embs.word_embeddings.weight.max_grad_of_output_wrt_node[1][101][0].name"
   ]
  },
  {
   "cell_type": "code",
   "execution_count": null,
   "metadata": {},
   "outputs": [
    {
     "data": {
      "text/plain": [
       "(1,\n",
       " {node(name: get_embedding, val: [[[-0.14575319 -0.19785921 -0.15279959 ...  1.1640646   0.2520253\n",
       "     -1.8681448 ]\n",
       "    [ 1.953604   -0.45420492 -0.45989478 ... -0.26960897  1.3368154\n",
       "      0.84715754]\n",
       "    [-1.8360448  -0.6634346  -0.22042722 ... -0.18071136 -1.9035796\n",
       "      0.8201915 ]\n",
       "    ...\n",
       "    [-1.2757827  -1.2516944  -0.4720613  ...  0.13241069 -0.6340039\n",
       "     -0.96398574]\n",
       "    [-0.6756279   0.53763574 -1.1274053  ...  0.10094006 -0.6436071\n",
       "      0.2731806 ]\n",
       "    [ 0.98025113  1.2585802   0.35818103 ...  0.21049303  0.47360757\n",
       "      0.30244443]]\n",
       "  \n",
       "   [[-0.14575319 -0.19785921 -0.15279959 ...  1.1640646   0.2520253\n",
       "     -1.8681448 ]\n",
       "    [-0.93644345  2.5714295  -0.82640326 ...  1.1819994  -0.00321964\n",
       "     -0.13631164]\n",
       "    [-0.93644345  2.5714295  -0.82640326 ...  1.1819994  -0.00321964\n",
       "     -0.13631164]\n",
       "    ...\n",
       "    [ 0.          0.          0.         ...  0.          0.\n",
       "      0.        ]\n",
       "    [ 0.          0.          0.         ...  0.          0.\n",
       "      0.        ]\n",
       "    [ 0.          0.          0.         ...  0.          0.\n",
       "      0.        ]]], grad: [[[0. 0. 0. ... 0. 0. 0.]\n",
       "    [0. 0. 0. ... 0. 0. 0.]\n",
       "    [0. 0. 0. ... 0. 0. 0.]\n",
       "    ...\n",
       "    [0. 0. 0. ... 0. 0. 0.]\n",
       "    [0. 0. 0. ... 0. 0. 0.]\n",
       "    [0. 0. 0. ... 0. 0. 0.]]\n",
       "  \n",
       "   [[0. 0. 0. ... 0. 0. 0.]\n",
       "    [0. 0. 0. ... 0. 0. 0.]\n",
       "    [0. 0. 0. ... 0. 0. 0.]\n",
       "    ...\n",
       "    [0. 0. 0. ... 0. 0. 0.]\n",
       "    [0. 0. 0. ... 0. 0. 0.]\n",
       "    [0. 0. 0. ... 0. 0. 0.]]])},\n",
       " (2, 19, 128))"
      ]
     },
     "execution_count": 65,
     "metadata": {},
     "output_type": "execute_result"
    }
   ],
   "source": [
    "len(bf_embs.word_embeddings.weight.parents), bf_embs.word_embeddings.weight.parents, list(bf_embs.word_embeddings.weight.parents)[0].shape"
   ]
  },
  {
   "cell_type": "code",
   "execution_count": null,
   "metadata": {},
   "outputs": [
    {
     "data": {
      "text/plain": [
       "'get_embedding'"
      ]
     },
     "execution_count": 99,
     "metadata": {},
     "output_type": "execute_result"
    }
   ],
   "source": [
    "bf_embs.word_embeddings.weight.max_grad_of_output_wrt_node[1][101][0].max_grad_of_output_wrt_node[1].shape"
   ]
  },
  {
   "cell_type": "code",
   "execution_count": null,
   "metadata": {},
   "outputs": [
    {
     "data": {
      "text/plain": [
       "'+'"
      ]
     },
     "execution_count": 71,
     "metadata": {},
     "output_type": "execute_result"
    }
   ],
   "source": [
    "bf_embs.word_embeddings.weight.max_grad_of_output_wrt_node[1][101][0].max_grad_of_output_wrt_node[1][0][0][0].name"
   ]
  },
  {
   "cell_type": "code",
   "execution_count": null,
   "metadata": {},
   "outputs": [
    {
     "data": {
      "text/plain": [
       "(2, 19, 128)"
      ]
     },
     "execution_count": 73,
     "metadata": {},
     "output_type": "execute_result"
    }
   ],
   "source": [
    "bf_embs.word_embeddings.weight.max_grad_of_output_wrt_node[1][101][0].max_grad_of_output_wrt_node[1][0][0][0].max_grad_of_output_wrt_node[1].shape"
   ]
  },
  {
   "cell_type": "code",
   "execution_count": null,
   "metadata": {},
   "outputs": [
    {
     "data": {
      "text/plain": [
       "'+'"
      ]
     },
     "execution_count": 74,
     "metadata": {},
     "output_type": "execute_result"
    }
   ],
   "source": [
    "bf_embs.word_embeddings.weight.max_grad_of_output_wrt_node[1][101][0].max_grad_of_output_wrt_node[1][0][0][0].max_grad_of_output_wrt_node[1][0][0][0].name"
   ]
  },
  {
   "cell_type": "code",
   "execution_count": null,
   "metadata": {},
   "outputs": [
    {
     "data": {
      "text/plain": [
       "'-'"
      ]
     },
     "execution_count": 77,
     "metadata": {},
     "output_type": "execute_result"
    }
   ],
   "source": [
    "bf_embs.word_embeddings.weight.max_grad_of_output_wrt_node[1][101][0].max_grad_of_output_wrt_node[1][0][0][0].max_grad_of_output_wrt_node[1][0][0][0].max_grad_of_output_wrt_node[1][0][0][0].name"
   ]
  },
  {
   "cell_type": "code",
   "execution_count": null,
   "metadata": {},
   "outputs": [
    {
     "data": {
      "text/plain": [
       "'/'"
      ]
     },
     "execution_count": 78,
     "metadata": {},
     "output_type": "execute_result"
    }
   ],
   "source": [
    "bf_embs.word_embeddings.weight.max_grad_of_output_wrt_node[1][101][0].max_grad_of_output_wrt_node[1][0][0][0].max_grad_of_output_wrt_node[1][0][0][0].max_grad_of_output_wrt_node[1][0][0][0].max_grad_of_output_wrt_node[1][0][0][0].name"
   ]
  },
  {
   "cell_type": "code",
   "execution_count": null,
   "metadata": {},
   "outputs": [
    {
     "data": {
      "text/plain": [
       "'*'"
      ]
     },
     "execution_count": 79,
     "metadata": {},
     "output_type": "execute_result"
    }
   ],
   "source": [
    "bf_embs.word_embeddings.weight.max_grad_of_output_wrt_node[1][101][0].max_grad_of_output_wrt_node[1][0][0][0].max_grad_of_output_wrt_node[1][0][0][0].max_grad_of_output_wrt_node[1][0][0][0].max_grad_of_output_wrt_node[1][0][0][0].max_grad_of_output_wrt_node[1][0][0][0].name"
   ]
  },
  {
   "cell_type": "code",
   "execution_count": null,
   "metadata": {},
   "outputs": [
    {
     "data": {
      "text/plain": [
       "'+'"
      ]
     },
     "execution_count": 80,
     "metadata": {},
     "output_type": "execute_result"
    }
   ],
   "source": [
    "bf_embs.word_embeddings.weight.max_grad_of_output_wrt_node[1][101][0].max_grad_of_output_wrt_node[1][0][0][0].max_grad_of_output_wrt_node[1][0][0][0].max_grad_of_output_wrt_node[1][0][0][0].max_grad_of_output_wrt_node[1][0][0][0].max_grad_of_output_wrt_node[1][0][0][0].max_grad_of_output_wrt_node[1][0][0][0].name"
   ]
  },
  {
   "cell_type": "code",
   "execution_count": null,
   "metadata": {},
   "outputs": [
    {
     "data": {
      "text/plain": [
       "set()"
      ]
     },
     "execution_count": 96,
     "metadata": {},
     "output_type": "execute_result"
    }
   ],
   "source": [
    "bf_embs.word_embeddings.weight.max_grad_of_output_wrt_node[1][101][0].max_grad_of_output_wrt_node[1][0][0][0].max_grad_of_output_wrt_node[1][0][0][0].max_grad_of_output_wrt_node[1][0][0][0].max_grad_of_output_wrt_node[1][0][0][0].max_grad_of_output_wrt_node[1][0][0][0].max_grad_of_output_wrt_node[1][0][0][0].parents"
   ]
  }
 ],
 "metadata": {
  "kernelspec": {
   "display_name": "Python 3.9.15 ('jax-hf')",
   "language": "python",
   "name": "python3"
  },
  "language_info": {
   "codemirror_mode": {
    "name": "ipython",
    "version": 3
   },
   "file_extension": ".py",
   "mimetype": "text/x-python",
   "name": "python",
   "nbconvert_exporter": "python",
   "pygments_lexer": "ipython3",
   "version": "3.9.15"
  },
  "orig_nbformat": 4,
  "vscode": {
   "interpreter": {
    "hash": "b4cc9cc217af6b7e12b7da5c82d5884fde07a0e0f6b7f76767c2fbf53f076f9a"
   }
  }
 },
 "nbformat": 4,
 "nbformat_minor": 2
}
