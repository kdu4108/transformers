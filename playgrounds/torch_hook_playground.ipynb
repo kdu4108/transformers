{
 "cells": [
  {
   "cell_type": "code",
   "execution_count": 1,
   "metadata": {},
   "outputs": [
    {
     "name": "stderr",
     "output_type": "stream",
     "text": [
      "/home/kevin/miniconda3/envs/jax-hf/lib/python3.9/site-packages/tqdm/auto.py:22: TqdmWarning: IProgress not found. Please update jupyter and ipywidgets. See https://ipywidgets.readthedocs.io/en/stable/user_install.html\n",
      "  from .autonotebook import tqdm as notebook_tqdm\n"
     ]
    }
   ],
   "source": [
    "from torch import nn\n",
    "import torch"
   ]
  },
  {
   "cell_type": "code",
   "execution_count": 2,
   "metadata": {},
   "outputs": [],
   "source": [
    "model = nn.Sequential(nn.Linear(10, 5), nn.Linear(5, 2))"
   ]
  },
  {
   "cell_type": "code",
   "execution_count": 3,
   "metadata": {},
   "outputs": [
    {
     "data": {
      "text/plain": [
       "torch.nn.modules.container.Sequential"
      ]
     },
     "execution_count": 3,
     "metadata": {},
     "output_type": "execute_result"
    }
   ],
   "source": [
    "type(model)"
   ]
  },
  {
   "cell_type": "code",
   "execution_count": 4,
   "metadata": {},
   "outputs": [],
   "source": [
    "class MLP(nn.Module):\n",
    "    def __init__(self):\n",
    "        super().__init__()\n",
    "        self.L1 = nn.Linear(10, 5)\n",
    "        self.L2 = nn.Linear(5, 2)\n",
    "    \n",
    "    def forward(self, x):\n",
    "        return self.L2(self.L1(x))"
   ]
  },
  {
   "cell_type": "code",
   "execution_count": 5,
   "metadata": {},
   "outputs": [],
   "source": [
    "model = MLP()"
   ]
  },
  {
   "cell_type": "code",
   "execution_count": 6,
   "metadata": {},
   "outputs": [],
   "source": [
    "def backward_hook(module, grad_input, grad_output):\n",
    "    print(f\"*** MODULE  : {module} ***\")\n",
    "    print(f'grad_input  : {grad_input}')\n",
    "    print(f'grad_output : {grad_output}')\n",
    "    if hasattr(module, \"weight\"):\n",
    "        print(f'weight val  : {module.weight}')\n",
    "        print(f'weight grad  : {module.weight.grad}')\n",
    "    print()"
   ]
  },
  {
   "cell_type": "code",
   "execution_count": 7,
   "metadata": {},
   "outputs": [],
   "source": [
    "# # model.register_full_backward_hook(backward_hook)\n",
    "# model.apply(lambda module: module.register_full_backward_hook(backward_hook))\n",
    "# x = torch.ones(size=(3, 10))\n",
    "# out = model(x).mean()\n",
    "# out.backward()"
   ]
  },
  {
   "cell_type": "code",
   "execution_count": 8,
   "metadata": {},
   "outputs": [
    {
     "data": {
      "text/plain": [
       "<torch.utils.hooks.RemovableHandle at 0x7fc2185fb7f0>"
      ]
     },
     "execution_count": 8,
     "metadata": {},
     "output_type": "execute_result"
    }
   ],
   "source": [
    "linear = nn.Linear(5, 1)\n",
    "with torch.no_grad():\n",
    "    linear.weight = nn.Parameter(torch.ones_like(linear.weight) * 2)\n",
    "    linear.bias = nn.Parameter(torch.ones_like(linear.bias))\n",
    "linear.register_full_backward_hook(backward_hook)"
   ]
  },
  {
   "cell_type": "code",
   "execution_count": 9,
   "metadata": {},
   "outputs": [
    {
     "data": {
      "text/plain": [
       "(Parameter containing:\n",
       " tensor([[2., 2., 2., 2., 2.]], requires_grad=True),\n",
       " Parameter containing:\n",
       " tensor([1.], requires_grad=True))"
      ]
     },
     "execution_count": 9,
     "metadata": {},
     "output_type": "execute_result"
    }
   ],
   "source": [
    "linear.weight, linear.bias"
   ]
  },
  {
   "cell_type": "code",
   "execution_count": 10,
   "metadata": {},
   "outputs": [
    {
     "name": "stdout",
     "output_type": "stream",
     "text": [
      "tensor([11.], grad_fn=<BackwardHookFunctionBackward>)\n"
     ]
    }
   ],
   "source": [
    "out = linear(torch.ones(5, requires_grad=True))\n",
    "print(out)"
   ]
  },
  {
   "cell_type": "code",
   "execution_count": 11,
   "metadata": {},
   "outputs": [
    {
     "name": "stdout",
     "output_type": "stream",
     "text": [
      "*** MODULE  : Linear(in_features=5, out_features=1, bias=True) ***\n",
      "grad_input  : (tensor([2., 2., 2., 2., 2.]),)\n",
      "grad_output : (tensor([1.]),)\n",
      "weight val  : Parameter containing:\n",
      "tensor([[2., 2., 2., 2., 2.]], requires_grad=True)\n",
      "weight grad  : tensor([[1., 1., 1., 1., 1.]])\n",
      "\n"
     ]
    },
    {
     "name": "stderr",
     "output_type": "stream",
     "text": [
      "/home/kevin/miniconda3/envs/jax-hf/lib/python3.9/site-packages/torch/autograd/__init__.py:173: UserWarning: CUDA initialization: CUDA unknown error - this may be due to an incorrectly set up environment, e.g. changing env variable CUDA_VISIBLE_DEVICES after program start. Setting the available devices to be zero. (Triggered internally at  /home/conda/feedstock_root/build_artifacts/pytorch-recipe_1664405705473/work/c10/cuda/CUDAFunctions.cpp:109.)\n",
      "  Variable._execution_engine.run_backward(  # Calls into the C++ engine to run the backward pass\n"
     ]
    }
   ],
   "source": [
    "out.backward()"
   ]
  },
  {
   "cell_type": "code",
   "execution_count": 12,
   "metadata": {},
   "outputs": [],
   "source": [
    "class Mult(nn.Module):\n",
    "    def __init__(self):\n",
    "        super().__init__()\n",
    "        self.L1 = nn.Linear(1, 1, bias=False)\n",
    "        self.L2 = nn.Linear(1, 1, bias=False)\n",
    "        self.L3 = nn.Linear(1, 1, bias=False)\n",
    "\n",
    "    def forward(self, x):\n",
    "        return self.L3(self.L2(self.L1(x)))"
   ]
  },
  {
   "cell_type": "code",
   "execution_count": 13,
   "metadata": {},
   "outputs": [],
   "source": [
    "m = Mult()"
   ]
  },
  {
   "cell_type": "code",
   "execution_count": 14,
   "metadata": {},
   "outputs": [
    {
     "name": "stdout",
     "output_type": "stream",
     "text": [
      "Linear(in_features=1, out_features=1, bias=False)\n",
      "Linear(in_features=1, out_features=1, bias=False)\n",
      "Linear(in_features=1, out_features=1, bias=False)\n"
     ]
    },
    {
     "data": {
      "text/plain": [
       "Mult(\n",
       "  (L1): Linear(in_features=1, out_features=1, bias=False)\n",
       "  (L2): Linear(in_features=1, out_features=1, bias=False)\n",
       "  (L3): Linear(in_features=1, out_features=1, bias=False)\n",
       ")"
      ]
     },
     "execution_count": 14,
     "metadata": {},
     "output_type": "execute_result"
    }
   ],
   "source": [
    "for i, l in enumerate(m.modules()):\n",
    "    if hasattr(l, 'weight'):\n",
    "        with torch.no_grad():\n",
    "            print(l)\n",
    "            l.weight = nn.Parameter(torch.ones_like(l.weight) * (i))\n",
    "m.apply(lambda module: module.register_full_backward_hook(backward_hook))\n"
   ]
  },
  {
   "cell_type": "code",
   "execution_count": 15,
   "metadata": {},
   "outputs": [],
   "source": [
    "x = torch.tensor([5.], requires_grad=True)\n",
    "out = m(x)"
   ]
  },
  {
   "cell_type": "code",
   "execution_count": 16,
   "metadata": {},
   "outputs": [
    {
     "name": "stdout",
     "output_type": "stream",
     "text": [
      "*** MODULE  : Linear(in_features=1, out_features=1, bias=False) ***\n",
      "grad_input  : (tensor([3.]),)\n",
      "grad_output : (tensor([1.]),)\n",
      "weight val  : Parameter containing:\n",
      "tensor([[3.]], requires_grad=True)\n",
      "weight grad  : tensor([[10.]])\n",
      "\n",
      "*** MODULE  : Linear(in_features=1, out_features=1, bias=False) ***\n",
      "grad_input  : (tensor([6.]),)\n",
      "grad_output : (tensor([3.]),)\n",
      "weight val  : Parameter containing:\n",
      "tensor([[2.]], requires_grad=True)\n",
      "weight grad  : tensor([[15.]])\n",
      "\n",
      "*** MODULE  : Linear(in_features=1, out_features=1, bias=False) ***\n",
      "grad_input  : (tensor([6.]),)\n",
      "grad_output : (tensor([6.]),)\n",
      "weight val  : Parameter containing:\n",
      "tensor([[1.]], requires_grad=True)\n",
      "weight grad  : tensor([[30.]])\n",
      "\n",
      "*** MODULE  : Mult(\n",
      "  (L1): Linear(in_features=1, out_features=1, bias=False)\n",
      "  (L2): Linear(in_features=1, out_features=1, bias=False)\n",
      "  (L3): Linear(in_features=1, out_features=1, bias=False)\n",
      ") ***\n",
      "grad_input  : (tensor([6.]),)\n",
      "grad_output : (tensor([1.]),)\n",
      "\n"
     ]
    }
   ],
   "source": [
    "out.backward()"
   ]
  },
  {
   "cell_type": "code",
   "execution_count": 17,
   "metadata": {},
   "outputs": [
    {
     "data": {
      "text/plain": [
       "tensor([6.])"
      ]
     },
     "execution_count": 17,
     "metadata": {},
     "output_type": "execute_result"
    }
   ],
   "source": [
    "x.grad"
   ]
  }
 ],
 "metadata": {
  "kernelspec": {
   "display_name": "Python 3.9.15 ('jax-hf')",
   "language": "python",
   "name": "python3"
  },
  "language_info": {
   "codemirror_mode": {
    "name": "ipython",
    "version": 3
   },
   "file_extension": ".py",
   "mimetype": "text/x-python",
   "name": "python",
   "nbconvert_exporter": "python",
   "pygments_lexer": "ipython3",
   "version": "3.9.15"
  },
  "orig_nbformat": 4,
  "vscode": {
   "interpreter": {
    "hash": "b4cc9cc217af6b7e12b7da5c82d5884fde07a0e0f6b7f76767c2fbf53f076f9a"
   }
  }
 },
 "nbformat": 4,
 "nbformat_minor": 2
}
